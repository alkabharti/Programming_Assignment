{
  "nbformat": 4,
  "nbformat_minor": 0,
  "metadata": {
    "colab": {
      "name": "Assignment_DeepLogicTech.ipynb",
      "provenance": [],
      "collapsed_sections": []
    },
    "kernelspec": {
      "name": "python3",
      "display_name": "Python 3"
    }
  },
  "cells": [
    {
      "cell_type": "code",
      "metadata": {
        "id": "ckN3WL4qLmbj",
        "outputId": "9573ece5-8d99-478e-da91-8c2f0c318372",
        "colab": {
          "base_uri": "https://localhost:8080/"
        }
      },
      "source": [
        "from urllib.request import urlopen\n",
        "import re\n",
        "import json\n",
        "\n",
        "latest_news = []\n",
        "\n",
        "def Extract_Title_and_Link(url):\n",
        "  page = urlopen(url)\n",
        "  html_bytes = page.read()\n",
        "  html = html_bytes.decode(\"utf-8\")\n",
        "\n",
        "  pattern = '<section class=\"homepage-module latest\".*?>(.|\\n)*?<\\/section.*?>'\n",
        "  match_results = re.search(pattern, html, re.IGNORECASE)\n",
        "  section = match_results.group()\n",
        "\n",
        "  h2_list = re.findall('<h2.*?>.*?</h2>',section)\n",
        "\n",
        "  for h2 in h2_list:\n",
        "    news = {}\n",
        "    link = re.findall('href=.*?/>',h2)\n",
        "    extracted_link = re.sub('href=',\"\",link[0])\n",
        "    extracted_link = re.sub('/>',\"\",extracted_link)\n",
        "    extracted_link = \"https://time.com\" + extracted_link\n",
        "\n",
        "    title = re.findall('/>.*?</',h2)\n",
        "    extracted_title = re.sub('/>',\"\",title[0])\n",
        "    extracted_title = re.sub('</',\"\",extracted_title)\n",
        "\n",
        "    news[\"title\"] = extracted_title\n",
        "    news[\"link\"] = extracted_link\n",
        "    latest_news.append(news)\n",
        "\n",
        "  return latest_news\n",
        "\n",
        "def JSON_Format(latest_news):\n",
        "  response = json.dumps(latest_news)\n",
        "  print(response)\n",
        "\n",
        "def main():\n",
        "  Extract_Title_and_Link(\"https://time.com/\")\n",
        "  JSON_Format(latest_news)\n",
        "\n",
        "if __name__==\"__main__\": \n",
        "    main()"
      ],
      "execution_count": 8,
      "outputs": [
        {
          "output_type": "stream",
          "text": [
            "[{\"title\": \"Democratic Defectors Bailed on Biden. Some Theories on Why\", \"link\": \"https://time.com/5911091/democratic-defectors-biden\"}, {\"title\": \"The Paris Attacks 5 Years Ago Left Young People Scarred. But 'Generation Bataclan' May Get Its Chance for Justice\", \"link\": \"https://time.com/5910960/paris-attack-anniversary-bataclan\"}, {\"title\": \"America's Crises Would Be Daunting for Any President-Elect\", \"link\": \"https://time.com/5911016/joe-biden-faces-crises\"}, {\"title\": \"The Weeknd To Play Super Bowl LV Halftime Show\", \"link\": \"https://time.com/5910989/the-weeknd-super-bowl-lv-halftime-show\"}, {\"title\": \"Should You Get a PlayStation 5, Xbox Series X, or Xbox Series S? Here's How to Decide\", \"link\": \"https://time.com/5910972/xbox-series-s-x-playstation-5\"}]\n"
          ],
          "name": "stdout"
        }
      ]
    },
    {
      "cell_type": "markdown",
      "metadata": {
        "id": "vFt9PpssKqWm"
      },
      "source": [
        ""
      ]
    }
  ]
}